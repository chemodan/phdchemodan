{
 "cells": [
  {
   "cell_type": "markdown",
   "metadata": {},
   "source": [
    "Get files from meltwater for the Bay Area"
   ]
  },
  {
   "cell_type": "code",
   "execution_count": 3,
   "metadata": {},
   "outputs": [],
   "source": [
    "from typing import Dict, List, Tuple\n",
    "import pandas as pd\n",
    "import numpy as np\n",
    "import datetime\n",
    "\n",
    "from IPython import display\n",
    "\n",
    "import seaborn as sns\n",
    "import matplotlib.pyplot as plt\n",
    "from matplotlib import dates\n",
    "import networkx as nx\n",
    "\n",
    "from sklearn.ensemble import RandomForestRegressor\n",
    "from sklearn. model_selection import train_test_split\n",
    "from sklearn.preprocessing import OneHotEncoder\n",
    "import os\n",
    "\n",
    "plt.rcParams.update({'font.size': 16})\n",
    "REGION = 'bay_area'"
   ]
  },
  {
   "cell_type": "code",
   "execution_count": null,
   "metadata": {},
   "outputs": [
    {
     "name": "stdout",
     "output_type": "stream",
     "text": [
      "Reading data from ./../meltwater/final_query/all_topics__bay_area.csv\n"
     ]
    }
   ],
   "source": [
    "%run ./meltwater_tweet_sentiment.ipynb\n",
    "ts = tweetSentiment(rawDir='./../meltwater/final_query/all_topics__', region=REGION)\n",
    "dfS = ts.getData()"
   ]
  },
  {
   "cell_type": "code",
   "execution_count": null,
   "metadata": {
    "scrolled": false
   },
   "outputs": [],
   "source": [
    "\"\"\"Sentiment of All Tweets\"\"\"\n",
    "%run ./meltwater_tweet_sentiment.ipynb\n",
    "ts = tweetSentiment(rawDir='./../meltwater/final_query/all_topics__', region=REGION)\n",
    "ts.analyzeSentiment(dfS, True, True, 'Tweets')\n",
    "\n",
    "\"\"\"Sentiment of Shared (RT or QT) Tweets\"\"\"\n",
    "%run ./meltwater_tweet_sentiment.ipynb\n",
    "ts = tweetSentiment(rawDir='./../meltwater/final_query/all_topics__', region=REGION)\n",
    "ts.analyzeSharedTweetsSentiment(dfS, True, True)"
   ]
  },
  {
   "cell_type": "markdown",
   "metadata": {},
   "source": [
    "https://en.wikipedia.org/wiki/2020_California_wildfires"
   ]
  },
  {
   "cell_type": "code",
   "execution_count": null,
   "metadata": {},
   "outputs": [],
   "source": [
    "dfS.head()"
   ]
  },
  {
   "cell_type": "code",
   "execution_count": null,
   "metadata": {},
   "outputs": [],
   "source": []
  },
  {
   "cell_type": "code",
   "execution_count": null,
   "metadata": {},
   "outputs": [],
   "source": []
  }
 ],
 "metadata": {
  "kernelspec": {
   "display_name": "Python 3",
   "language": "python",
   "name": "python3"
  }
 },
 "nbformat": 4,
 "nbformat_minor": 2
}
