{
 "cells": [
  {
   "cell_type": "markdown",
   "metadata": {},
   "source": [
    "https://app.meltwater.com/search/edit/12681167\n"
   ]
  },
  {
   "cell_type": "code",
   "execution_count": 1,
   "metadata": {},
   "outputs": [
    {
     "name": "stderr",
     "output_type": "stream",
     "text": [
      "C:\\Users\\alexg\\Anaconda3\\lib\\site-packages\\ipykernel_launcher.py:9: DeprecationWarning: numpy.core.umath_tests is an internal NumPy module and should not be imported. It will be removed in a future NumPy release.\n",
      "  if __name__ == '__main__':\n"
     ]
    },
    {
     "data": {
      "text/plain": [
       "'2020-11-24 17:48:22'"
      ]
     },
     "execution_count": 1,
     "metadata": {},
     "output_type": "execute_result"
    }
   ],
   "source": [
    "\"\"\"Import the Twython class\"\"\"\n",
    "import twitter\n",
    "import json\n",
    "import pandas as pd\n",
    "import matplotlib.pyplot as plt\n",
    "import seaborn as sns\n",
    "\n",
    "from typing import List, Dict\n",
    "from numpy.core.umath_tests import inner1d\n",
    "import base64\n",
    "import requests\n",
    "\n",
    "import datetime\n",
    "\n",
    "from __future__ import unicode_literals\n",
    "\n",
    "MY_BIG_TOPICS = {\n",
    "              \"race\": [\"black\", \"racism\", \"racial\"],\n",
    "              \"politics\": [\"trump\", \"biden\", \"elections\", \"democrat\", \"republican\",],\n",
    "              \"covid\": [\"covid\", \"corona\", \"pandemic\", \"virus\"],\n",
    "                }\n",
    "\n",
    "TODAY = datetime.datetime.now().strftime(format=\"%Y-%m-%d\")\n",
    "NOW = datetime.datetime.now().strftime(format=\"%Y-%m-%d %H:%M:%S\")\n",
    "NOW"
   ]
  },
  {
   "cell_type": "code",
   "execution_count": 2,
   "metadata": {},
   "outputs": [
    {
     "data": {
      "text/html": [
       "<div>\n",
       "<style scoped>\n",
       "    .dataframe tbody tr th:only-of-type {\n",
       "        vertical-align: middle;\n",
       "    }\n",
       "\n",
       "    .dataframe tbody tr th {\n",
       "        vertical-align: top;\n",
       "    }\n",
       "\n",
       "    .dataframe thead th {\n",
       "        text-align: right;\n",
       "    }\n",
       "</style>\n",
       "<table border=\"1\" class=\"dataframe\">\n",
       "  <thead>\n",
       "    <tr style=\"text-align: right;\">\n",
       "      <th></th>\n",
       "      <th>city</th>\n",
       "      <th>county_name</th>\n",
       "      <th>state_id</th>\n",
       "      <th>state_name</th>\n",
       "    </tr>\n",
       "  </thead>\n",
       "  <tbody>\n",
       "    <tr>\n",
       "      <th>0</th>\n",
       "      <td>Seattle</td>\n",
       "      <td>King</td>\n",
       "      <td>WA</td>\n",
       "      <td>Washington</td>\n",
       "    </tr>\n",
       "    <tr>\n",
       "      <th>1</th>\n",
       "      <td>Tacoma</td>\n",
       "      <td>Pierce</td>\n",
       "      <td>WA</td>\n",
       "      <td>Washington</td>\n",
       "    </tr>\n",
       "    <tr>\n",
       "      <th>2</th>\n",
       "      <td>Marysville</td>\n",
       "      <td>Snohomish</td>\n",
       "      <td>WA</td>\n",
       "      <td>Washington</td>\n",
       "    </tr>\n",
       "    <tr>\n",
       "      <th>3</th>\n",
       "      <td>Bellevue</td>\n",
       "      <td>King</td>\n",
       "      <td>WA</td>\n",
       "      <td>Washington</td>\n",
       "    </tr>\n",
       "    <tr>\n",
       "      <th>4</th>\n",
       "      <td>Kent</td>\n",
       "      <td>King</td>\n",
       "      <td>WA</td>\n",
       "      <td>Washington</td>\n",
       "    </tr>\n",
       "    <tr>\n",
       "      <th>...</th>\n",
       "      <td>...</td>\n",
       "      <td>...</td>\n",
       "      <td>...</td>\n",
       "      <td>...</td>\n",
       "    </tr>\n",
       "    <tr>\n",
       "      <th>193</th>\n",
       "      <td>Elbe</td>\n",
       "      <td>Pierce</td>\n",
       "      <td>WA</td>\n",
       "      <td>Washington</td>\n",
       "    </tr>\n",
       "    <tr>\n",
       "      <th>194</th>\n",
       "      <td>Herron Island</td>\n",
       "      <td>Pierce</td>\n",
       "      <td>WA</td>\n",
       "      <td>Washington</td>\n",
       "    </tr>\n",
       "    <tr>\n",
       "      <th>195</th>\n",
       "      <td>Greenwater</td>\n",
       "      <td>Pierce</td>\n",
       "      <td>WA</td>\n",
       "      <td>Washington</td>\n",
       "    </tr>\n",
       "    <tr>\n",
       "      <th>196</th>\n",
       "      <td>Silvana</td>\n",
       "      <td>Snohomish</td>\n",
       "      <td>WA</td>\n",
       "      <td>Washington</td>\n",
       "    </tr>\n",
       "    <tr>\n",
       "      <th>197</th>\n",
       "      <td>Ketron Island</td>\n",
       "      <td>Pierce</td>\n",
       "      <td>WA</td>\n",
       "      <td>Washington</td>\n",
       "    </tr>\n",
       "  </tbody>\n",
       "</table>\n",
       "<p>198 rows × 4 columns</p>\n",
       "</div>"
      ],
      "text/plain": [
       "              city county_name state_id  state_name\n",
       "0          Seattle        King       WA  Washington\n",
       "1           Tacoma      Pierce       WA  Washington\n",
       "2       Marysville   Snohomish       WA  Washington\n",
       "3         Bellevue        King       WA  Washington\n",
       "4             Kent        King       WA  Washington\n",
       "..             ...         ...      ...         ...\n",
       "193           Elbe      Pierce       WA  Washington\n",
       "194  Herron Island      Pierce       WA  Washington\n",
       "195     Greenwater      Pierce       WA  Washington\n",
       "196        Silvana   Snohomish       WA  Washington\n",
       "197  Ketron Island      Pierce       WA  Washington\n",
       "\n",
       "[198 rows x 4 columns]"
      ]
     },
     "execution_count": 2,
     "metadata": {},
     "output_type": "execute_result"
    }
   ],
   "source": [
    "%run ./twitter_analysis.ipynb\n",
    "ta = TweetAnalyzer([\"Alameda\"], MY_BIG_TOPICS.copy(), \"CA\")\n",
    "whatIneed = ta.mCityCountyDF[[\"city\", \"county_name\", \"state_id\", \"state_name\"]].copy()\n",
    "MYCOUNTIES = ['King', 'Snohomish', 'Pierce']\n",
    "minnesota = whatIneed.loc[whatIneed.state_id == 'WA'] #\n",
    "minneapolis = minnesota.loc[minnesota.county_name.isin(MYCOUNTIES)].reset_index(drop=True)\n",
    "minneapolis\n",
    "# nys = whatIneed.loc[whatIneed.state_id == 'NY']\n",
    "# cities = ['New York', 'Brooklyn', 'Queens', 'Bronx', 'Staten Island']\n",
    "# list(nys.loc[nys.city.isin(cities)][\"county_name\"])"
   ]
  },
  {
   "cell_type": "code",
   "execution_count": 3,
   "metadata": {},
   "outputs": [
    {
     "name": "stdout",
     "output_type": "stream",
     "text": [
      "688\n"
     ]
    },
    {
     "data": {
      "text/plain": [
       "'Oregon'"
      ]
     },
     "execution_count": 3,
     "metadata": {},
     "output_type": "execute_result"
    }
   ],
   "source": [
    "\n",
    "# MYCOUNTIES = [\"Alameda\", \"San Francisco\", \"San Mateo\", \"Santa Clara\", \"Santa Cruz\"]\n",
    "# MYCOUNTIES = ['New York', 'Kings', 'Queens', 'Bronx', 'Richmond']\n",
    "MYCOUNTIES = ['Multnomah', 'Washington', 'Clackamas']\n",
    "if len(MYCOUNTIES) > 0:\n",
    "    MYCOUNTIES.extend([cc + \" County\" for cc in MYCOUNTIES])\n",
    "\n",
    "%run ./twitter_analysis.ipynb\n",
    "ta = TweetAnalyzer(MYCOUNTIES.copy(), MY_BIG_TOPICS.copy(), \"OR\")\n",
    "\n",
    "print(len(ta.mCountyTopics))\n",
    "ta.mStateName"
   ]
  },
  {
   "cell_type": "code",
   "execution_count": 4,
   "metadata": {},
   "outputs": [
    {
     "data": {
      "text/plain": [
       "'(\"Oregon\") AND ((\"Multnomah\") OR (\"Washington\") OR (\"Clackamas\") OR (\"Multnomah County\") OR (\"Washington County\") OR (\"Clackamas County\") OR (\"Aloha\") OR (\"Banks\") OR (\"Barlow\") OR (\"Beavercreek\") OR (\"Beaverton\") OR (\"Bethany\") OR (\"Bull Mountain\") OR (\"Canby\") OR (\"Cedar Hills\") OR (\"Cedar Mill\") OR (\"Cornelius\") OR (\"Damascus\") OR (\"Durham\") OR (\"Estacada\") OR (\"Fairview\") OR (\"Forest Grove\") OR (\"Garden Home-Whitford\") OR (\"Gaston\") OR (\"Gladstone\") OR (\"Government Camp\") OR (\"Gresham\") OR (\"Happy Valley\") OR (\"Hillsboro\") OR (\"Jennings Lodge\") OR (\"Johnson City\") OR (\"King City\") OR (\"Lake Oswego\") OR (\"Maywood Park\") OR (\"Metzger\") OR (\"Milwaukie\") OR (\"Molalla\") OR (\"Mulino\") OR (\"North Plains\") OR (\"Oak Grove\") OR (\"Oak Hills\") OR (\"Oatfield\") OR (\"Oregon City\") OR (\"Portland\") OR (\"Raleigh Hills\") OR (\"Rivergrove\") OR (\"Rockcreek\") OR (\"Sandy\") OR (\"Sherwood\") OR (\"Stafford\") OR (\"Tigard\") OR (\"Troutdale\") OR (\"Tualatin\") OR (\"West Haven-Sylvan\") OR (\"West Linn\") OR (\"West Slope\") OR (\"Wilsonville\") OR (\"Wood Village\"))'"
      ]
     },
     "execution_count": 4,
     "metadata": {},
     "output_type": "execute_result"
    }
   ],
   "source": [
    "ta.mMeltwaterQuery"
   ]
  },
  {
   "cell_type": "code",
   "execution_count": 5,
   "metadata": {},
   "outputs": [
    {
     "name": "stdout",
     "output_type": "stream",
     "text": [
      "==============================================\n",
      "Run the query in Meltwater; collect the tweets\n",
      "==============================================\n"
     ]
    }
   ],
   "source": [
    "print(\"==============================================\")\n",
    "print(\"Run the query in Meltwater; collect the tweets\")\n",
    "print(\"==============================================\")"
   ]
  },
  {
   "cell_type": "code",
   "execution_count": 6,
   "metadata": {},
   "outputs": [],
   "source": [
    "# %run ./twitter_analysis.ipynb\n",
    "# ta = TweetAnalyzer(MYCOUNTIES.copy(), MY_BIG_TOPICS.copy())\n",
    "# allData = ta.getTweetDataFromCSV()\n",
    "# ta.plotHistogramForRetweetsByTopic(allData)\n",
    "\n",
    "# allDataFinal = ta.splitTopicsIDbigTopics(allData)\n",
    "# allDataFinal.describe()\n",
    "# allDataFinal.tail()\n",
    "# NOW = '2020-10-12__01_23_57'\n",
    "# csvFile = ta.mMyDir + \"all_tweets_\" + NOW.replace(' ', '__').replace(':', '_') + \".csv\"\n",
    "# allDataFinal.to_csv(csvFile, index=False)\n",
    "# print(f\"Saved all tweets ({len(allDataFinal)} rows) to {csvFile}\")"
   ]
  }
 ],
 "metadata": {
  "kernelspec": {
   "display_name": "Python 3",
   "language": "python",
   "name": "python3"
  },
  "language_info": {
   "codemirror_mode": {
    "name": "ipython",
    "version": 3
   },
   "file_extension": ".py",
   "mimetype": "text/x-python",
   "name": "python",
   "nbconvert_exporter": "python",
   "pygments_lexer": "ipython3",
   "version": "3.6.4"
  }
 },
 "nbformat": 4,
 "nbformat_minor": 2
}
